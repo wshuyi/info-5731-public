{
  "nbformat": 4,
  "nbformat_minor": 0,
  "metadata": {
    "colab": {
      "name": "demo-05-big-cats-image-classification-deep-transfer-learning-202104-unt-resnet18-CAM-simplified",
      "provenance": [],
      "collapsed_sections": [],
      "machine_shape": "hm",
      "mount_file_id": "1laoqKuDk3ATLTKuC513Ax45ke7ylMmCc",
      "authorship_tag": "ABX9TyPTBFiupNsRpT/etnK8LdIs",
      "include_colab_link": true
    },
    "kernelspec": {
      "name": "python3",
      "display_name": "Python 3"
    },
    "accelerator": "GPU"
  },
  "cells": [
    {
      "cell_type": "markdown",
      "metadata": {
        "id": "view-in-github",
        "colab_type": "text"
      },
      "source": [
        "<a href=\"https://colab.research.google.com/github/wshuyi/info-5731-public/blob/master/demo_05_big_cats_image_classification_deep_transfer_learning_202104_unt_resnet18_CAM_simplified.ipynb\" target=\"_parent\"><img src=\"https://colab.research.google.com/assets/colab-badge.svg\" alt=\"Open In Colab\"/></a>"
      ]
    },
    {
      "cell_type": "code",
      "metadata": {
        "id": "xauup3Akp5le"
      },
      "source": [
        "import fastai\n",
        "fastai.__version__"
      ],
      "execution_count": null,
      "outputs": []
    },
    {
      "cell_type": "code",
      "metadata": {
        "id": "4bY26hFTAka0"
      },
      "source": [
        "!pip install -U fastai"
      ],
      "execution_count": null,
      "outputs": []
    },
    {
      "cell_type": "code",
      "metadata": {
        "id": "PFjhEyPW9yPI"
      },
      "source": [
        "!pip install torchcam"
      ],
      "execution_count": null,
      "outputs": []
    },
    {
      "cell_type": "code",
      "metadata": {
        "id": "-MiO8oDl-STp"
      },
      "source": [
        ""
      ],
      "execution_count": null,
      "outputs": []
    },
    {
      "cell_type": "code",
      "metadata": {
        "id": "3IEiqQk9DMz0"
      },
      "source": [
        "from torchvision.io.image import read_image\n",
        "from torchvision.transforms.functional import normalize, resize, to_pil_image\n",
        "from torchcam.cams import SmoothGradCAMpp\n",
        "from torchcam.cams import SmoothGradCAMpp\n",
        "import matplotlib.pyplot as plt\n",
        "from torchcam.utils import overlay_mask\n",
        "\n",
        "from sklearn.metrics import confusion_matrix, classification_report\n",
        "import shutil\n",
        "import os\n",
        "from pathlib import Path\n",
        "from fastai.vision.all import *"
      ],
      "execution_count": null,
      "outputs": []
    },
    {
      "cell_type": "code",
      "metadata": {
        "id": "DbJR75kHCGOu"
      },
      "source": [
        "def get_labels_and_preds(predictions):\n",
        "  df = pd.DataFrame(predictions[0])\n",
        "  preds = (df[0] < df[1]).astype(int)\n",
        "  labels = predictions[1]\n",
        "  return labels, preds\n",
        "\n",
        "def visualize_cam_on_img(img_name, model):\n",
        "  cam_extractor = SmoothGradCAMpp(model)\n",
        "  # Get your input\n",
        "  img = read_image(str(img_name))\n",
        "\n",
        "  # Preprocess it for your chosen model\n",
        "  input_tensor = normalize(resize(img, (224, 224)) / 255., [0.485, 0.456, 0.406], [0.229, 0.224, 0.225]).cuda()\n",
        "\n",
        "  # Preprocess your data and feed it to the model\n",
        "  out = model(input_tensor.unsqueeze(0))\n",
        "  # Retrieve the CAM by passing the class index and the model output\n",
        "  activation_map = cam_extractor(out.squeeze(0).argmax().item(), out)\n",
        "\n",
        "\n",
        "  # Resize the CAM and overlay it\n",
        "  result = overlay_mask(to_pil_image(img), to_pil_image(activation_map, mode='F'), alpha=0.5)\n",
        "  # Display it\n",
        "  plt.imshow(result); plt.axis('off'); plt.tight_layout(); plt.show()\n",
        "\n",
        "def rename_in_order(folder):\n",
        "    files = list(folder.glob(\"*\"))\n",
        "    temp_folder = folder / \"temp\"\n",
        "    temp_folder.mkdir()\n",
        "    target_files = []\n",
        "    for i in range(len(files)):\n",
        "        source = files[i]\n",
        "        target = temp_folder / f\"{i+1:03}.jpg\"\n",
        "        target_files.append(target)\n",
        "        shutil.move(source, target)\n",
        "    for file in target_files:\n",
        "        shutil.copy2(file, folder)\n",
        "    shutil.rmtree(temp_folder)\n",
        "\n",
        "def init_images_dir(images):\n",
        "  if images.exists():\n",
        "    shutil.rmtree(images)\n",
        "\n",
        "  images.mkdir()\n",
        "\n",
        "  train_folder = images / \"train\"\n",
        "  valid_folder = images / \"valid\"\n",
        "  test_folder = images / \"test\"\n",
        "\n",
        "  train_folder.mkdir()\n",
        "  valid_folder.mkdir()\n",
        "  test_folder.mkdir()\n",
        "\n",
        "def split_images_into_train_valid_test(mycls, images, images_original, train_ratio=0.7, test_ratio=0.1):\n",
        "\n",
        "    files = list((images_original / mycls).glob(\"*.jpg\"))\n",
        "\n",
        "    train_length = round(len(files) * train_ratio)\n",
        "    test_length = round(len(files) * test_ratio)\n",
        "\n",
        "    train = files[:train_length]\n",
        "    valid = files[train_length:len(files) - test_length]\n",
        "    test = files[len(files) - test_length:]\n",
        "\n",
        "    train_folder = images / \"train\"\n",
        "    valid_folder = images / \"valid\"\n",
        "    test_folder = images / \"test\"\n",
        "\n",
        "    (train_folder / mycls).mkdir()\n",
        "    (valid_folder / mycls).mkdir()\n",
        "    (test_folder / mycls).mkdir()\n",
        "\n",
        "    for file in train:\n",
        "        shutil.copy(file, train_folder / mycls)\n",
        "\n",
        "    for file in valid:\n",
        "        shutil.copy(file, valid_folder / mycls)\n",
        "\n",
        "    for file in test:\n",
        "        shutil.copy(file, test_folder / mycls)\n",
        "        \n",
        "    rename_in_order(train_folder / mycls)\n",
        "    rename_in_order(valid_folder / mycls)\n",
        "    rename_in_order(test_folder / mycls)"
      ],
      "execution_count": null,
      "outputs": []
    },
    {
      "cell_type": "code",
      "metadata": {
        "id": "extraordinary-structure"
      },
      "source": [
        "!git clone https://github.com/wshuyi/big-cats-image-original.git"
      ],
      "execution_count": null,
      "outputs": []
    },
    {
      "cell_type": "code",
      "metadata": {
        "id": "angry-bridge"
      },
      "source": [
        "# make targets"
      ],
      "execution_count": null,
      "outputs": []
    },
    {
      "cell_type": "code",
      "metadata": {
        "id": "joined-march"
      },
      "source": [
        "images = Path('images')"
      ],
      "execution_count": null,
      "outputs": []
    },
    {
      "cell_type": "code",
      "metadata": {
        "id": "alike-surgeon"
      },
      "source": [
        "init_images_dir(images)"
      ],
      "execution_count": null,
      "outputs": []
    },
    {
      "cell_type": "code",
      "metadata": {
        "id": "unsigned-engineering"
      },
      "source": [
        "images_original = Path(\"big-cats-image-original/\")"
      ],
      "execution_count": null,
      "outputs": []
    },
    {
      "cell_type": "code",
      "metadata": {
        "id": "scientific-damages"
      },
      "source": [
        "for mycls in [\"cheetah\", \"jaguar\"]:\n",
        "  split_images_into_train_valid_test(mycls, images, images_original)"
      ],
      "execution_count": null,
      "outputs": []
    },
    {
      "cell_type": "code",
      "metadata": {
        "id": "Zelg1EHmUO_v"
      },
      "source": [
        "len(list(images.glob(\"*/*/*.jpg\")))"
      ],
      "execution_count": null,
      "outputs": []
    },
    {
      "cell_type": "code",
      "metadata": {
        "id": "SXMnQPecy909"
      },
      "source": [
        "arch = resnet18\n",
        "# run_date = \"20210418\"\n",
        "metrics=[accuracy, error_rate]\n",
        "item_tfms=Resize(224)\n",
        "batch_tfms=aug_transforms()\n",
        "seed=2\n",
        "epochs = 20\n"
      ],
      "execution_count": null,
      "outputs": []
    },
    {
      "cell_type": "code",
      "metadata": {
        "id": "Sd3VjuFpCLnQ"
      },
      "source": [
        "working_dir = Path(\".\")"
      ],
      "execution_count": null,
      "outputs": []
    },
    {
      "cell_type": "code",
      "metadata": {
        "id": "EeOwSsIwutz4"
      },
      "source": [
        "dls = ImageDataLoaders.from_folder(images, train='train', valid='valid', seed=seed, item_tfms=item_tfms, batch_tfms=batch_tfms)"
      ],
      "execution_count": null,
      "outputs": []
    },
    {
      "cell_type": "code",
      "metadata": {
        "id": "QyoKAjUavUCO"
      },
      "source": [
        "dls.show_batch()"
      ],
      "execution_count": null,
      "outputs": []
    },
    {
      "cell_type": "code",
      "metadata": {
        "id": "fgpEvdVzvXwz"
      },
      "source": [
        "learn = cnn_learner(dls, arch, metrics=metrics)"
      ],
      "execution_count": null,
      "outputs": []
    },
    {
      "cell_type": "code",
      "metadata": {
        "id": "trO23DP5ieta"
      },
      "source": [
        "# learn.lr_find()"
      ],
      "execution_count": null,
      "outputs": []
    },
    {
      "cell_type": "code",
      "metadata": {
        "id": "kFrX1NHf1ZTi"
      },
      "source": [
        "base_lr = 3e-3"
      ],
      "execution_count": null,
      "outputs": []
    },
    {
      "cell_type": "code",
      "metadata": {
        "id": "kXUPMki0v79f"
      },
      "source": [
        "%%time\n",
        "learn.fine_tune(epochs=epochs, base_lr=base_lr, cbs=[SaveModelCallback(), EarlyStoppingCallback()])"
      ],
      "execution_count": null,
      "outputs": []
    },
    {
      "cell_type": "code",
      "metadata": {
        "id": "IlinDWOY5uOl"
      },
      "source": [
        "model_dump = working_dir/ f\"fine_tuned\""
      ],
      "execution_count": null,
      "outputs": []
    },
    {
      "cell_type": "code",
      "metadata": {
        "id": "JcnTVUHQ1-PN"
      },
      "source": [
        "learn.save(model_dump)"
      ],
      "execution_count": null,
      "outputs": []
    },
    {
      "cell_type": "code",
      "metadata": {
        "id": "a0qI9N7r37pZ"
      },
      "source": [
        "dls1 = ImageDataLoaders.from_folder(images, train='train', valid='test', seed=seed, item_tfms=item_tfms)"
      ],
      "execution_count": null,
      "outputs": []
    },
    {
      "cell_type": "code",
      "metadata": {
        "id": "V1oL0JJ67P2s"
      },
      "source": [
        "learn1 = cnn_learner(dls1, arch, metrics=metrics)"
      ],
      "execution_count": null,
      "outputs": []
    },
    {
      "cell_type": "code",
      "metadata": {
        "id": "-sYCKq9s7hiw"
      },
      "source": [
        "learn1.load(model_dump)"
      ],
      "execution_count": null,
      "outputs": []
    },
    {
      "cell_type": "code",
      "metadata": {
        "id": "Q4dwgHV27uri"
      },
      "source": [
        "%%time\n",
        "predictions = learn1.get_preds()"
      ],
      "execution_count": null,
      "outputs": []
    },
    {
      "cell_type": "code",
      "metadata": {
        "id": "qpFfKVKJ-CgT"
      },
      "source": [
        "predictions"
      ],
      "execution_count": null,
      "outputs": []
    },
    {
      "cell_type": "code",
      "metadata": {
        "id": "MaPLUQ0KCXy7"
      },
      "source": [
        "labels, preds = get_labels_and_preds(predictions)"
      ],
      "execution_count": null,
      "outputs": []
    },
    {
      "cell_type": "code",
      "metadata": {
        "id": "VCIy2u0d_C6i"
      },
      "source": [
        "print(classification_report(labels, preds))"
      ],
      "execution_count": null,
      "outputs": []
    },
    {
      "cell_type": "code",
      "metadata": {
        "id": "n46Is97J-ubL"
      },
      "source": [
        "print(confusion_matrix(labels, preds))"
      ],
      "execution_count": null,
      "outputs": []
    },
    {
      "cell_type": "code",
      "metadata": {
        "id": "mPSHXPVQ--2a"
      },
      "source": [
        "learn1.show_results()"
      ],
      "execution_count": null,
      "outputs": []
    },
    {
      "cell_type": "code",
      "metadata": {
        "id": "ph44bxta7gcD"
      },
      "source": [
        "interp = Interpretation.from_learner(learn1)"
      ],
      "execution_count": null,
      "outputs": []
    },
    {
      "cell_type": "code",
      "metadata": {
        "id": "4z_5kTlk7h8q"
      },
      "source": [
        "interp.plot_top_losses(9, figsize=(15,10))\n"
      ],
      "execution_count": null,
      "outputs": []
    },
    {
      "cell_type": "code",
      "metadata": {
        "id": "_JcOdTRb1_Kj"
      },
      "source": [
        "#Visualize the arch"
      ],
      "execution_count": null,
      "outputs": []
    },
    {
      "cell_type": "code",
      "metadata": {
        "id": "gB_Nfjvp9mjY"
      },
      "source": [
        "dummy_input = torch.randn(2, 3, 224, 224).cuda()"
      ],
      "execution_count": null,
      "outputs": []
    },
    {
      "cell_type": "code",
      "metadata": {
        "id": "CpX13T2d9nMv"
      },
      "source": [
        "torch.onnx.export(learn1.model, dummy_input, \"output.onnx\", verbose=False)"
      ],
      "execution_count": null,
      "outputs": []
    },
    {
      "cell_type": "code",
      "metadata": {
        "id": "QUtcqXVdF0cd"
      },
      "source": [
        "model = learn1.model"
      ],
      "execution_count": null,
      "outputs": []
    },
    {
      "cell_type": "code",
      "metadata": {
        "id": "cElYzd3TFP06"
      },
      "source": [
        "img_name = images/\"test/cheetah/001.jpg\"\n",
        "visualize_cam_on_img(img_name, model)"
      ],
      "execution_count": null,
      "outputs": []
    },
    {
      "cell_type": "code",
      "metadata": {
        "id": "2huyFWTlFZmh"
      },
      "source": [
        "img_name = images/\"test/cheetah/015.jpg\"\n",
        "visualize_cam_on_img(img_name, model)"
      ],
      "execution_count": null,
      "outputs": []
    },
    {
      "cell_type": "code",
      "metadata": {
        "id": "Ceu759rmFeZP"
      },
      "source": [
        "img_name = images/\"test/jaguar/001.jpg\"\n",
        "visualize_cam_on_img(img_name, model)"
      ],
      "execution_count": null,
      "outputs": []
    },
    {
      "cell_type": "code",
      "metadata": {
        "id": "9SyPPk4jFoci"
      },
      "source": [
        "img_name = images/\"test/jaguar/015.jpg\"\n",
        "visualize_cam_on_img(img_name, model)"
      ],
      "execution_count": null,
      "outputs": []
    },
    {
      "cell_type": "code",
      "metadata": {
        "id": "CyIzuMi_Frzx"
      },
      "source": [
        ""
      ],
      "execution_count": null,
      "outputs": []
    }
  ]
}